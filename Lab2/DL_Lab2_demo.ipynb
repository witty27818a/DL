{
 "cells": [
  {
   "cell_type": "code",
   "execution_count": 1,
   "id": "5f3640dc",
   "metadata": {},
   "outputs": [],
   "source": [
    "import torch\n",
    "import torch.nn as nn\n",
    "from torch.utils.data import TensorDataset, DataLoader\n",
    "from dataloader import read_bci_data\n",
    "import os"
   ]
  },
  {
   "cell_type": "code",
   "execution_count": 2,
   "id": "ad49d29a",
   "metadata": {},
   "outputs": [],
   "source": [
    "device = torch.device(\"cuda\" if torch.cuda.is_available else \"cpu\")"
   ]
  },
  {
   "cell_type": "code",
   "execution_count": 3,
   "id": "f424b5c2",
   "metadata": {},
   "outputs": [],
   "source": [
    "batch_size = 270"
   ]
  },
  {
   "cell_type": "code",
   "execution_count": 4,
   "id": "277e63b6",
   "metadata": {},
   "outputs": [],
   "source": [
    "os.chdir(\"C:\\\\Users\\\\GL75\\\\OneDrive\\\\桌面\\\\深度學習\\\\Lab2\")"
   ]
  },
  {
   "cell_type": "code",
   "execution_count": 5,
   "id": "505aab5e",
   "metadata": {},
   "outputs": [
    {
     "name": "stdout",
     "output_type": "stream",
     "text": [
      "(1080, 1, 2, 750) (1080,) (1080, 1, 2, 750) (1080,)\n"
     ]
    }
   ],
   "source": [
    "_, _, X_test, y_test = read_bci_data()"
   ]
  },
  {
   "cell_type": "code",
   "execution_count": 6,
   "id": "7cfcaa06",
   "metadata": {},
   "outputs": [],
   "source": [
    "test_dataset = TensorDataset(torch.from_numpy(X_test), torch.from_numpy(y_test))\n",
    "test_dataloader = DataLoader(test_dataset, batch_size = batch_size, shuffle = False)"
   ]
  },
  {
   "cell_type": "code",
   "execution_count": 7,
   "id": "5e834ea0",
   "metadata": {},
   "outputs": [],
   "source": [
    "class EEGNet(nn.Module):\n",
    "    def __init__(self, activation_fn = nn.ELU()):\n",
    "        super().__init__()\n",
    "        self.firstconv = nn.Sequential(\n",
    "            nn.Conv2d(1, 16, kernel_size = (1, 51), stride = (1, 1), padding = (0, 25), bias = False),\n",
    "            nn.BatchNorm2d(16, eps = 1e-5, momentum = 0.1, affine = True, track_running_stats = True)\n",
    "        )\n",
    "        self.depthwiseConv = nn.Sequential(\n",
    "            nn.Conv2d(16, 32, kernel_size = (2, 1), stride = (1, 1), groups = 16, bias = False), # input channels = groups, meaning depthwise, a channel a filter\n",
    "            nn.BatchNorm2d(32, eps = 1e-5, momentum = 0.1, affine = True, track_running_stats = True),\n",
    "            activation_fn,\n",
    "            nn.AvgPool2d(kernel_size = (1, 4), stride = (1, 4), padding = 0),\n",
    "            nn.Dropout(p = 0.25)\n",
    "        )\n",
    "        self.separableConv = nn.Sequential(\n",
    "            nn.Conv2d(32, 32, kernel_size = (1, 15), stride = (1, 1), padding = (0, 7), bias = False),\n",
    "            nn.BatchNorm2d(32, eps = 1e-5, momentum = 0.1, affine = True, track_running_stats = True),\n",
    "            activation_fn,\n",
    "            nn.AvgPool2d(kernel_size = (1, 8), stride = (1, 8), padding = 0),\n",
    "            nn.Dropout(p = 0.25)\n",
    "        )\n",
    "        self.flatten = nn.Flatten()\n",
    "        self.classify = nn.Linear(736, 2)\n",
    "    def forward(self, X):\n",
    "        output = self.firstconv(X)\n",
    "        output = self.depthwiseConv(output)\n",
    "        output = self.separableConv(output)\n",
    "        output = self.flatten(output)\n",
    "        output = self.classify(output)\n",
    "        return output"
   ]
  },
  {
   "cell_type": "code",
   "execution_count": 8,
   "id": "5c4ed94d",
   "metadata": {},
   "outputs": [],
   "source": [
    "def testing(model, test_dataloader, device):\n",
    "    model.eval()\n",
    "    accuracy = 0.0\n",
    "    with torch.no_grad():\n",
    "        for (X_batched, y_batched) in test_dataloader:\n",
    "            X_batched = X_batched.to(device, dtype = torch.float)\n",
    "            y_batched = y_batched.to(device, dtype = torch.long)\n",
    "            prediction = model(X_batched)\n",
    "            accuracy += prediction.max(dim = 1)[1].eq(y_batched).sum().item()\n",
    "        accuracy = accuracy / len(test_dataloader.dataset) * 100\n",
    "    return accuracy"
   ]
  },
  {
   "cell_type": "code",
   "execution_count": 9,
   "id": "cc20f442",
   "metadata": {},
   "outputs": [
    {
     "name": "stdout",
     "output_type": "stream",
     "text": [
      "The testing accuracy of the model is: 87.31%\n"
     ]
    }
   ],
   "source": [
    "model = EEGNet(nn.LeakyReLU())\n",
    "model.load_state_dict(torch.load(os.path.join(\"D://DL_lab2_params/EEGNet\", \"LeakyReLU.pt\"), map_location = device))\n",
    "model.to(device)\n",
    "acc = testing(model, test_dataloader, device)\n",
    "print(f\"The testing accuracy of the model is: {acc:.2f}%\")"
   ]
  }
 ],
 "metadata": {
  "kernelspec": {
   "display_name": "Python 3",
   "language": "python",
   "name": "python3"
  },
  "language_info": {
   "codemirror_mode": {
    "name": "ipython",
    "version": 3
   },
   "file_extension": ".py",
   "mimetype": "text/x-python",
   "name": "python",
   "nbconvert_exporter": "python",
   "pygments_lexer": "ipython3",
   "version": "3.8.8"
  }
 },
 "nbformat": 4,
 "nbformat_minor": 5
}
