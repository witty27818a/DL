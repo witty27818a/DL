{
 "cells": [
  {
   "cell_type": "code",
   "execution_count": 1,
   "id": "588c6370",
   "metadata": {},
   "outputs": [],
   "source": [
    "import numpy as np\n",
    "import pandas as pd\n",
    "import os\n",
    "import torch\n",
    "import torch.nn as nn\n",
    "from torch.utils.data import Dataset, DataLoader\n",
    "from torchvision import transforms, models\n",
    "from PIL import Image"
   ]
  },
  {
   "cell_type": "code",
   "execution_count": 2,
   "id": "1649adc7",
   "metadata": {},
   "outputs": [
    {
     "name": "stdout",
     "output_type": "stream",
     "text": [
      "device: cuda\n"
     ]
    }
   ],
   "source": [
    "device = torch.device('cuda' if torch.cuda.is_available() else 'cpu')\n",
    "print(\"device:\", device)"
   ]
  },
  {
   "cell_type": "code",
   "execution_count": 3,
   "id": "3daec06c",
   "metadata": {},
   "outputs": [],
   "source": [
    "os.chdir(\"C:\\\\Users\\\\GL75\\\\OneDrive\\\\桌面\\\\深度學習\\\\Lab3\")"
   ]
  },
  {
   "cell_type": "code",
   "execution_count": 4,
   "id": "30dd3580",
   "metadata": {},
   "outputs": [],
   "source": [
    "def getData(mode):\n",
    "    if mode == 'train':\n",
    "        img = pd.read_csv('train_img.csv')\n",
    "        label = pd.read_csv('train_label.csv')\n",
    "        return np.squeeze(img.values), np.squeeze(label.values)\n",
    "    else:\n",
    "        img = pd.read_csv('test_img.csv')\n",
    "        label = pd.read_csv('test_label.csv')\n",
    "        return np.squeeze(img.values), np.squeeze(label.values)"
   ]
  },
  {
   "cell_type": "code",
   "execution_count": 5,
   "id": "92f8ff50",
   "metadata": {},
   "outputs": [],
   "source": [
    "batch_size18 = 32 # GPU maximum memory for my laptop\n",
    "batch_size50 = 8"
   ]
  },
  {
   "cell_type": "code",
   "execution_count": 6,
   "id": "9d7063e2",
   "metadata": {},
   "outputs": [],
   "source": [
    "mean = torch.load(os.path.join(\"C:\\\\Users\\\\GL75\\\\OneDrive\\\\桌面\\\\深度學習\\\\Lab3\", 'train_mean.pt'))\n",
    "std = torch.load(os.path.join(\"C:\\\\Users\\\\GL75\\\\OneDrive\\\\桌面\\\\深度學習\\\\Lab3\", 'train_std.pt'))"
   ]
  },
  {
   "cell_type": "code",
   "execution_count": 7,
   "id": "29f4509b",
   "metadata": {},
   "outputs": [
    {
     "name": "stdout",
     "output_type": "stream",
     "text": [
      "tensor([0.3749, 0.2602, 0.1857])\n",
      "tensor([0.2526, 0.1780, 0.1291])\n"
     ]
    }
   ],
   "source": [
    "'''for training data'''\n",
    "print(mean) # tensor([0.3749, 0.2602, 0.1857])\n",
    "print(std) # tensor([0.2526, 0.1780, 0.1291])"
   ]
  },
  {
   "cell_type": "code",
   "execution_count": 8,
   "id": "536a46a1",
   "metadata": {},
   "outputs": [],
   "source": [
    "class RetinopathyDataset(Dataset):\n",
    "    def __init__(self, root, mode, mean, std):\n",
    "        self.root = root\n",
    "        self.mode = mode\n",
    "        self.img_names, self.labels = getData(self.mode)\n",
    "        self.length = len(self.img_names)\n",
    "        self.transformations = transforms.Compose([\n",
    "            transforms.RandomHorizontalFlip(),\n",
    "            transforms.RandomVerticalFlip(),\n",
    "            transforms.ToTensor(),\n",
    "            transforms.Normalize(mean, std)\n",
    "        ])\n",
    "        print(\"> Found %d images...\" % (self.length))\n",
    "    def __len__(self):\n",
    "        return self.length\n",
    "    def __getitem__(self, index):\n",
    "        img_name = os.path.join(self.root, self.img_names[index] + '.jpeg')\n",
    "        img = Image.open(img_name)\n",
    "        img = self.transformations(img)\n",
    "        label = self.labels[index]\n",
    "        return img, label"
   ]
  },
  {
   "cell_type": "code",
   "execution_count": 9,
   "id": "5bb69c02",
   "metadata": {},
   "outputs": [],
   "source": [
    "class ResNet18(nn.Module):\n",
    "    def __init__(self, num_classes = 5, pretrained = True):\n",
    "        super().__init__()\n",
    "        self.model = models.resnet18(pretrained = pretrained)\n",
    "        if pretrained:\n",
    "            for param in self.model.parameters():\n",
    "                param.require_grads = False\n",
    "        num_of_fc_input_neurons = self.model.fc.in_features # 512\n",
    "        self.model.fc = nn.Linear(num_of_fc_input_neurons, num_classes)\n",
    "    def forward(self, X):\n",
    "        outputs = self.model(X)\n",
    "        return outputs"
   ]
  },
  {
   "cell_type": "code",
   "execution_count": 10,
   "id": "0fe89e69",
   "metadata": {},
   "outputs": [],
   "source": [
    "class ResNet50(nn.Module):\n",
    "    def __init__(self, num_classes = 5, pretrained = True):\n",
    "        super().__init__()\n",
    "        self.model = models.resnet50(pretrained = pretrained)\n",
    "        if pretrained:\n",
    "            for param in self.model.parameters():\n",
    "                param.require_grads = False\n",
    "        num_of_fc_input_neurons = self.model.fc.in_features # 512\n",
    "        self.model.fc = nn.Linear(num_of_fc_input_neurons, num_classes)\n",
    "    def forward(self, X):\n",
    "        outputs = self.model(X)\n",
    "        return outputs"
   ]
  },
  {
   "cell_type": "code",
   "execution_count": 11,
   "id": "e4df7036",
   "metadata": {},
   "outputs": [],
   "source": [
    "def test(model, test_dataloader, device):\n",
    "    model.eval()\n",
    "    with torch.no_grad():\n",
    "        accuracy = 0.0\n",
    "        for X_batched, y_batched in test_dataloader:\n",
    "            X_batched = X_batched.to(device, dtype = torch.float)\n",
    "            y_batched = y_batched.to(device, dtype = torch.long)\n",
    "            predictions = model(X_batched)\n",
    "            accuracy += predictions.max(dim = 1)[1].eq(y_batched).sum().item()\n",
    "        accuracy = accuracy / len(test_dataloader.dataset) * 100\n",
    "        \n",
    "    return accuracy"
   ]
  },
  {
   "cell_type": "code",
   "execution_count": 12,
   "id": "958b7d71",
   "metadata": {},
   "outputs": [
    {
     "name": "stdout",
     "output_type": "stream",
     "text": [
      "> Found 7025 images...\n"
     ]
    }
   ],
   "source": [
    "test_dataset = RetinopathyDataset('D:/DL_lab3_data', 'test', mean, std)\n",
    "test_dataloader = DataLoader(test_dataset, batch_size = batch_size18, shuffle = False)\n",
    "# test_dataloader = DataLoader(test_dataset, batch_size = batch_size50, shuffle = False)"
   ]
  },
  {
   "cell_type": "code",
   "execution_count": 13,
   "id": "4b7864ca",
   "metadata": {},
   "outputs": [],
   "source": [
    "model = ResNet18(pretrained = True)\n",
    "model.load_state_dict(torch.load(os.path.join(\"D:/DL_lab3_params\", \"ResNet18_with_pretrained.pt\"), map_location = device))\n",
    "# model = ResNet50(pretrained = True)\n",
    "# model.load_state_dict(torch.load(os.path.join(\"D:/DL_lab3_params\", \"ResNet50_with_pretrained.pt\"), map_location = device))\n",
    "model.to(device)\n",
    "accuracy = test(model, test_dataloader, device)"
   ]
  },
  {
   "cell_type": "code",
   "execution_count": 14,
   "id": "ca732a3e",
   "metadata": {},
   "outputs": [
    {
     "name": "stdout",
     "output_type": "stream",
     "text": [
      "the best testing accuracy: 82.06405693950178\n"
     ]
    }
   ],
   "source": [
    "print(\"the best testing accuracy: {}\".format(accuracy))"
   ]
  },
  {
   "cell_type": "code",
   "execution_count": 16,
   "id": "7cccc5c0",
   "metadata": {},
   "outputs": [],
   "source": [
    "df_18 = pd.DataFrame({\"epoch\": list(range(1, 16)), \n",
    "                      \"test_acc_ResNet18_with_pretrained\": np.load(os.path.join(\"D:/DL_lab3_params\", \"test_acc_ResNet18_with_pretrained.npy\"))\n",
    "                     })\n",
    "# df_50 = pd.DataFrame({\"epoch\": list(range(1, 11)), \n",
    "#                       \"test_acc_ResNet50_with_pretrained\": np.load(os.path.join(\"D:/DL_lab3_params\", \"test_acc_ResNet50_with_pretrained.npy\"))\n",
    "#                      })"
   ]
  },
  {
   "cell_type": "code",
   "execution_count": 17,
   "id": "7a219f05",
   "metadata": {},
   "outputs": [
    {
     "name": "stdout",
     "output_type": "stream",
     "text": [
      "The best testing accuracy of ResNet18 model with pretrained weights is: 82.42%\n"
     ]
    }
   ],
   "source": [
    "for curve_name in df_18.columns[1: ]:\n",
    "    print(\"The best {}ing accuracy of ResNet18 model {} pretrained weights is: {:.2f}%\".format(curve_name.split(\"_\")[0], curve_name.split(\"_\")[-2], df_18[curve_name].max()))\n",
    "# for curve_name in df_50.columns[1: ]:\n",
    "#     print(\"The best {}ing accuracy of ResNet50 model {} pretrained weights is: {:.2f}%\".format(curve_name.split(\"_\")[0], curve_name.split(\"_\")[-2], df_50[curve_name].max()))"
   ]
  }
 ],
 "metadata": {
  "kernelspec": {
   "display_name": "Python 3",
   "language": "python",
   "name": "python3"
  },
  "language_info": {
   "codemirror_mode": {
    "name": "ipython",
    "version": 3
   },
   "file_extension": ".py",
   "mimetype": "text/x-python",
   "name": "python",
   "nbconvert_exporter": "python",
   "pygments_lexer": "ipython3",
   "version": "3.8.8"
  }
 },
 "nbformat": 4,
 "nbformat_minor": 5
}
